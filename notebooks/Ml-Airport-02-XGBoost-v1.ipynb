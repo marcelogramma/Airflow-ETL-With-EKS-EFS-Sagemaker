{
 "cells": [
  {
   "cell_type": "code",
   "execution_count": null,
   "metadata": {},
   "outputs": [],
   "source": [
    "pip install awswrangler"
   ]
  },
  {
   "cell_type": "code",
   "execution_count": 1,
   "metadata": {},
   "outputs": [],
   "source": [
    "import boto3\n",
    "import awswrangler as wr\n",
    "import pandas as pd\n",
    "import glob\n",
    "import sagemaker\n",
    "from sagemaker.image_uris import retrieve\n",
    "from time import gmtime, strftime"
   ]
  },
  {
   "cell_type": "code",
   "execution_count": 2,
   "metadata": {},
   "outputs": [],
   "source": [
    "BUCKET_RAW = \"ml-dataset-raw-s3\"\n",
    "BUCKET_PREFIX = 'sagemaker'\n",
    "#execution_role = sagemaker.get_execution_role()\n",
    "BUCKET_PREFIX2009 = \"raw-out/2009.csv\"\n",
    "\n",
    "pathfull2009 = f\"s3://{BUCKET_RAW}/{BUCKET_PREFIX2009}\"\n",
    "with open(file='from_s3/2009.csv', mode='wb') as local_f:\n",
    "\n",
    "    wr.s3.download(path=pathfull2009, local_file=local_f)\n",
    "\n",
    "BUCKET_PREFIX2010 = \"raw-out/2010.csv\"\n",
    "\n",
    "pathfull2010 = f\"s3://{BUCKET_RAW}/{BUCKET_PREFIX2010}\"\n",
    "with open(file='from_s3/2010.csv', mode='wb') as local_f:\n",
    "\n",
    "    wr.s3.download(path=pathfull2010, local_file=local_f)\n",
    "\n",
    "BUCKET_PREFIX2011 = \"raw-out/2011.csv\"\n",
    "\n",
    "pathfull2011 = f\"s3://{BUCKET_RAW}/{BUCKET_PREFIX2011}\"\n",
    "with open(file='from_s3/2011.csv', mode='wb') as local_f:\n",
    "\n",
    "    wr.s3.download(path=pathfull2011, local_file=local_f)\n",
    "\n",
    "BUCKET_PREFIX2012 = \"raw-out/2012.csv\"\n",
    "\n",
    "pathfull2012 = f\"s3://{BUCKET_RAW}/{BUCKET_PREFIX2012}\"\n",
    "with open(file='from_s3/2012.csv', mode='wb') as local_f:\n",
    "\n",
    "    wr.s3.download(path=pathfull2012, local_file=local_f)\n",
    "\n",
    "BUCKET_PREFIX2013 = \"raw-out/2013.csv\"\n",
    "\n",
    "pathfull2013 = f\"s3://{BUCKET_RAW}/{BUCKET_PREFIX2013}\"\n",
    "with open(file='from_s3/2013.csv', mode='wb') as local_f:\n",
    "\n",
    "    wr.s3.download(path=pathfull2013, local_file=local_f)\n",
    "\n",
    "BUCKET_PREFIX2014 = \"raw-out/2014.csv\"\n",
    "\n",
    "pathfull2014 = f\"s3://{BUCKET_RAW}/{BUCKET_PREFIX2014}\"\n",
    "with open(file='from_s3/2014.csv', mode='wb') as local_f:\n",
    "\n",
    "    wr.s3.download(path=pathfull2014, local_file=local_f)\n",
    "\n",
    "BUCKET_PREFIX2015 = \"raw-out/2015.csv\"\n",
    "\n",
    "pathfull2015 = f\"s3://{BUCKET_RAW}/{BUCKET_PREFIX2015}\"\n",
    "with open(file='from_s3/2015.csv', mode='wb') as local_f:\n",
    "\n",
    "    wr.s3.download(path=pathfull2015, local_file=local_f)\n",
    "\n",
    "BUCKET_PREFIX2016 = \"raw-out/2016.csv\"\n",
    "\n",
    "pathfull2016 = f\"s3://{BUCKET_RAW}/{BUCKET_PREFIX2016}\"\n",
    "with open(file='from_s3/2016.csv', mode='wb') as local_f:\n",
    "\n",
    "    wr.s3.download(path=pathfull2016, local_file=local_f)\n",
    "\n",
    "BUCKET_PREFIX2017 = \"raw-out/2017.csv\"\n",
    "\n",
    "pathfull2017 = f\"s3://{BUCKET_RAW}/{BUCKET_PREFIX2017}\"\n",
    "with open(file='from_s3/2017.csv', mode='wb') as local_f:\n",
    "\n",
    "    wr.s3.download(path=pathfull2017, local_file=local_f)\n",
    "\n",
    "BUCKET_PREFIX2018 = \"raw-out/2018.csv\"\n",
    "\n",
    "pathfull2018 = f\"s3://{BUCKET_RAW}/{BUCKET_PREFIX2018}\"\n",
    "with open(file='from_s3/2018.csv', mode='wb') as local_f:\n",
    "\n",
    "    wr.s3.download(path=pathfull2018, local_file=local_f)"
   ]
  },
  {
   "cell_type": "code",
   "execution_count": 4,
   "metadata": {},
   "outputs": [
    {
     "data": {
      "text/plain": [
       "<matplotlib.axes._subplots.AxesSubplot at 0x7fca6b4c2790>"
      ]
     },
     "execution_count": 4,
     "metadata": {},
     "output_type": "execute_result"
    },
    {
     "data": {
      "image/png": "[encoded data removed]",
      "text/plain": [
       "<Figure size 432x288 with 1 Axes>"
      ]
     },
     "metadata": {
      "needs_background": "light"
     },
     "output_type": "display_data"
    }
   ],
   "source": [
    "path = r'./from_s3' # use your path\n",
    "all_files = glob.glob(path + \"/*.csv\")\n",
    "\n",
    "li = []\n",
    "\n",
    "for filename in all_files:\n",
    "    df = pd.read_csv(filename, index_col=None, header=0)\n",
    "    li.append(df)\n",
    "\n",
    "airport_data = pd.concat(li, axis=0, ignore_index=True)\n",
    "\n",
    "airport_data.plot(title='Airports Departures Delay')"
   ]
  },
  {
   "cell_type": "code",
   "execution_count": 5,
   "metadata": {},
   "outputs": [
    {
     "data": {
      "text/html": [
       "<div>\n",
       "<style scoped>\n",
       "    .dataframe tbody tr th:only-of-type {\n",
       "        vertical-align: middle;\n",
       "    }\n",
       "\n",
       "    .dataframe tbody tr th {\n",
       "        vertical-align: top;\n",
       "    }\n",
       "\n",
       "    .dataframe thead th {\n",
       "        text-align: right;\n",
       "    }\n",
       "</style>\n",
       "<table border=\"1\" class=\"dataframe\">\n",
       "  <thead>\n",
       "    <tr style=\"text-align: right;\">\n",
       "      <th></th>\n",
       "      <th>ORIGIN</th>\n",
       "      <th>FL_DATE</th>\n",
       "      <th>DEP_DELAY</th>\n",
       "    </tr>\n",
       "  </thead>\n",
       "  <tbody>\n",
       "    <tr>\n",
       "      <th>0</th>\n",
       "      <td>ABE</td>\n",
       "      <td>2013-01-01</td>\n",
       "      <td>3.500000</td>\n",
       "    </tr>\n",
       "    <tr>\n",
       "      <th>1</th>\n",
       "      <td>ABE</td>\n",
       "      <td>2013-01-02</td>\n",
       "      <td>-1.818182</td>\n",
       "    </tr>\n",
       "    <tr>\n",
       "      <th>2</th>\n",
       "      <td>ABE</td>\n",
       "      <td>2013-01-03</td>\n",
       "      <td>15.600000</td>\n",
       "    </tr>\n",
       "    <tr>\n",
       "      <th>3</th>\n",
       "      <td>ABE</td>\n",
       "      <td>2013-01-04</td>\n",
       "      <td>-8.727273</td>\n",
       "    </tr>\n",
       "    <tr>\n",
       "      <th>4</th>\n",
       "      <td>ABE</td>\n",
       "      <td>2013-01-05</td>\n",
       "      <td>-5.666667</td>\n",
       "    </tr>\n",
       "    <tr>\n",
       "      <th>...</th>\n",
       "      <td>...</td>\n",
       "      <td>...</td>\n",
       "      <td>...</td>\n",
       "    </tr>\n",
       "    <tr>\n",
       "      <th>1062268</th>\n",
       "      <td>YUM</td>\n",
       "      <td>2012-12-27</td>\n",
       "      <td>-3.000000</td>\n",
       "    </tr>\n",
       "    <tr>\n",
       "      <th>1062269</th>\n",
       "      <td>YUM</td>\n",
       "      <td>2012-12-28</td>\n",
       "      <td>0.250000</td>\n",
       "    </tr>\n",
       "    <tr>\n",
       "      <th>1062270</th>\n",
       "      <td>YUM</td>\n",
       "      <td>2012-12-29</td>\n",
       "      <td>43.000000</td>\n",
       "    </tr>\n",
       "    <tr>\n",
       "      <th>1062271</th>\n",
       "      <td>YUM</td>\n",
       "      <td>2012-12-30</td>\n",
       "      <td>-5.875000</td>\n",
       "    </tr>\n",
       "    <tr>\n",
       "      <th>1062272</th>\n",
       "      <td>YUM</td>\n",
       "      <td>2012-12-31</td>\n",
       "      <td>6.714286</td>\n",
       "    </tr>\n",
       "  </tbody>\n",
       "</table>\n",
       "<p>1062273 rows × 3 columns</p>\n",
       "</div>"
      ],
      "text/plain": [
       "        ORIGIN     FL_DATE  DEP_DELAY\n",
       "0          ABE  2013-01-01   3.500000\n",
       "1          ABE  2013-01-02  -1.818182\n",
       "2          ABE  2013-01-03  15.600000\n",
       "3          ABE  2013-01-04  -8.727273\n",
       "4          ABE  2013-01-05  -5.666667\n",
       "...        ...         ...        ...\n",
       "1062268    YUM  2012-12-27  -3.000000\n",
       "1062269    YUM  2012-12-28   0.250000\n",
       "1062270    YUM  2012-12-29  43.000000\n",
       "1062271    YUM  2012-12-30  -5.875000\n",
       "1062272    YUM  2012-12-31   6.714286\n",
       "\n",
       "[1062273 rows x 3 columns]"
      ]
     },
     "execution_count": 5,
     "metadata": {},
     "output_type": "execute_result"
    }
   ],
   "source": [
    "airport_data"
   ]
  },
  {
   "cell_type": "code",
   "execution_count": 6,
   "metadata": {},
   "outputs": [],
   "source": [
    "from sklearn.model_selection import train_test_split\n",
    "train, test_and_validate = train_test_split(df, test_size=0.2, random_state=42)"
   ]
  },
  {
   "cell_type": "code",
   "execution_count": 7,
   "metadata": {},
   "outputs": [],
   "source": [
    "test, validate = train_test_split(test_and_validate, test_size=0.5, random_state=42)"
   ]
  },
  {
   "cell_type": "code",
   "execution_count": 8,
   "metadata": {},
   "outputs": [
    {
     "name": "stdout",
     "output_type": "stream",
     "text": [
      "(84154, 3)\n",
      "(10519, 3)\n",
      "(10520, 3)\n"
     ]
    }
   ],
   "source": [
    "print(train.shape)\n",
    "print(test.shape)\n",
    "print(validate.shape)"
   ]
  },
  {
   "cell_type": "code",
   "execution_count": 9,
   "metadata": {},
   "outputs": [
    {
     "name": "stdout",
     "output_type": "stream",
     "text": [
      "-5.000000     1087\n",
      "-6.000000     1038\n",
      "-4.000000      967\n",
      "-7.000000      902\n",
      "-3.000000      861\n",
      "              ... \n",
      " 13.235294       1\n",
      " 5.276423        1\n",
      " 7.534985        1\n",
      "-1.510204        1\n",
      " 0.766667        1\n",
      "Name: DEP_DELAY, Length: 26754, dtype: int64\n",
      "-4.000000     146\n",
      "-6.000000     134\n",
      "-7.000000     129\n",
      "-5.000000     128\n",
      "-2.000000     101\n",
      "             ... \n",
      " 0.849057       1\n",
      " 14.505119      1\n",
      " 16.955036      1\n",
      " 4.680000       1\n",
      " 0.162544       1\n",
      "Name: DEP_DELAY, Length: 5177, dtype: int64\n",
      "-5.000000     149\n",
      "-6.000000     136\n",
      "-7.000000     110\n",
      "-3.000000     109\n",
      "-4.000000     109\n",
      "             ... \n",
      " 62.500000      1\n",
      " 11.773810      1\n",
      " 5.279279       1\n",
      "-6.538462       1\n",
      " 9.863485       1\n",
      "Name: DEP_DELAY, Length: 5263, dtype: int64\n"
     ]
    }
   ],
   "source": [
    "print(train['DEP_DELAY'].value_counts())\n",
    "print(test['DEP_DELAY'].value_counts())\n",
    "print(validate['DEP_DELAY'].value_counts())"
   ]
  },
  {
   "cell_type": "code",
   "execution_count": 10,
   "metadata": {},
   "outputs": [],
   "source": [
    "bucket=f\"{BUCKET_RAW}\"\n",
    "\n",
    "prefix=f\"{BUCKET_PREFIX}\"\n",
    "\n",
    "train_file='airport_train.csv'\n",
    "test_file='airport_test.csv'\n",
    "validate_file='airport_validate.csv'\n",
    "\n",
    "import os\n",
    "import io\n",
    "\n",
    "s3_resource = boto3.Session().resource('s3')\n",
    "def upload_s3_csv(filename, folder, dataframe):\n",
    "    csv_buffer = io.StringIO()\n",
    "    dataframe.to_csv(csv_buffer, header=False, index=False)\n",
    "    s3_resource.Bucket(bucket).Object(os.path.join(prefix, folder, filename)).put(Body=csv_buffer.getvalue())"
   ]
  },
  {
   "cell_type": "code",
   "execution_count": 11,
   "metadata": {},
   "outputs": [],
   "source": [
    "upload_s3_csv(train_file, 'train', train)\n",
    "upload_s3_csv(test_file, 'test', test)\n",
    "upload_s3_csv(validate_file, 'validate', validate)"
   ]
  },
  {
   "cell_type": "code",
   "execution_count": 12,
   "metadata": {},
   "outputs": [],
   "source": [
    "import boto3\n",
    "from sagemaker.image_uris import retrieve\n",
    "container = retrieve('xgboost',boto3.Session().region_name,'1.0-1')"
   ]
  },
  {
   "cell_type": "code",
   "execution_count": 13,
   "metadata": {},
   "outputs": [],
   "source": [
    "hyperparams={\"num_round\":\"42\",\n",
    "             \"eval_metric\": \"accuracy\",\n",
    "             \"objective\": \"binary:logistic\"}"
   ]
  },
  {
   "cell_type": "code",
   "execution_count": 14,
   "metadata": {},
   "outputs": [],
   "source": [
    "import sagemaker\n",
    "s3_output_location=\"s3://{}/{}/output/\".format(bucket,prefix)\n",
    "xgb_model=sagemaker.estimator.Estimator(container,\n",
    "                                       sagemaker.get_execution_role(),\n",
    "                                       instance_count=1,\n",
    "                                       instance_type='ml.m4.xlarge',\n",
    "                                       output_path=s3_output_location,\n",
    "                                        hyperparameters=hyperparams,\n",
    "                                        sagemaker_session=sagemaker.Session())"
   ]
  },
  {
   "cell_type": "code",
   "execution_count": 15,
   "metadata": {},
   "outputs": [],
   "source": [
    "train_channel = sagemaker.inputs.TrainingInput(\n",
    "    \"s3://{}/{}/train/\".format(bucket,prefix,train_file),\n",
    "    content_type='text/csv')\n",
    "\n",
    "validate_channel = sagemaker.inputs.TrainingInput(\n",
    "    \"s3://{}/{}/validate/\".format(bucket,prefix,validate_file),\n",
    "    content_type='text/csv')\n",
    "\n",
    "data_channels = {'train': train_channel, 'validation': validate_channel}"
   ]
  },
  {
   "cell_type": "code",
   "execution_count": 16,
   "metadata": {},
   "outputs": [
    {
     "name": "stdout",
     "output_type": "stream",
     "text": [
      "\n",
      "2022-02-12 23:02:38 Starting - Starting the training job...\n",
      "2022-02-12 23:02:58 Starting - Launching requested ML instances.................\n",
      "2022-02-12 23:04:28 Starting - Preparing the instances for training.................\n",
      "2022-02-12 23:05:56 Downloading - Downloading input data..\n",
      "2022-02-12 23:06:13 Training - Downloading the training image.......\n",
      "2022-02-12 23:06:53 Training - Training image download completed. Training in progress...\n",
      "2022-02-12 23:07:10 Uploading - Uploading generated training model.\n",
      "2022-02-12 23:07:18 Completed - Training job completed\n"
     ]
    }
   ],
   "source": [
    "xgb_model.fit(inputs=data_channels, logs=False)"
   ]
  },
  {
   "cell_type": "code",
   "execution_count": 17,
   "metadata": {},
   "outputs": [
    {
     "name": "stdout",
     "output_type": "stream",
     "text": [
      "---------!"
     ]
    }
   ],
   "source": [
    "xgb_predictor = xgb_model.deploy(initial_instance_count=1,\n",
    "                serializer = sagemaker.serializers.CSVSerializer(),\n",
    "                instance_type='ml.m4.xlarge')"
   ]
  },
  {
   "cell_type": "code",
   "execution_count": 18,
   "metadata": {},
   "outputs": [
    {
     "data": {
      "text/plain": [
       "(10519, 3)"
      ]
     },
     "execution_count": 18,
     "metadata": {},
     "output_type": "execute_result"
    }
   ],
   "source": [
    "test.shape"
   ]
  },
  {
   "cell_type": "code",
   "execution_count": 19,
   "metadata": {},
   "outputs": [
    {
     "data": {
      "text/html": [
       "<div>\n",
       "<style scoped>\n",
       "    .dataframe tbody tr th:only-of-type {\n",
       "        vertical-align: middle;\n",
       "    }\n",
       "\n",
       "    .dataframe tbody tr th {\n",
       "        vertical-align: top;\n",
       "    }\n",
       "\n",
       "    .dataframe thead th {\n",
       "        text-align: right;\n",
       "    }\n",
       "</style>\n",
       "<table border=\"1\" class=\"dataframe\">\n",
       "  <thead>\n",
       "    <tr style=\"text-align: right;\">\n",
       "      <th></th>\n",
       "      <th>ORIGIN</th>\n",
       "      <th>FL_DATE</th>\n",
       "      <th>DEP_DELAY</th>\n",
       "    </tr>\n",
       "  </thead>\n",
       "  <tbody>\n",
       "    <tr>\n",
       "      <th>46685</th>\n",
       "      <td>HLN</td>\n",
       "      <td>2012-10-29</td>\n",
       "      <td>-7.166667</td>\n",
       "    </tr>\n",
       "    <tr>\n",
       "      <th>27038</th>\n",
       "      <td>DAB</td>\n",
       "      <td>2012-05-06</td>\n",
       "      <td>6.000000</td>\n",
       "    </tr>\n",
       "    <tr>\n",
       "      <th>96651</th>\n",
       "      <td>STL</td>\n",
       "      <td>2012-01-01</td>\n",
       "      <td>4.339130</td>\n",
       "    </tr>\n",
       "    <tr>\n",
       "      <th>1728</th>\n",
       "      <td>ABY</td>\n",
       "      <td>2012-11-21</td>\n",
       "      <td>-9.000000</td>\n",
       "    </tr>\n",
       "    <tr>\n",
       "      <th>30253</th>\n",
       "      <td>DRO</td>\n",
       "      <td>2012-07-06</td>\n",
       "      <td>-3.222222</td>\n",
       "    </tr>\n",
       "  </tbody>\n",
       "</table>\n",
       "</div>"
      ],
      "text/plain": [
       "      ORIGIN     FL_DATE  DEP_DELAY\n",
       "46685    HLN  2012-10-29  -7.166667\n",
       "27038    DAB  2012-05-06   6.000000\n",
       "96651    STL  2012-01-01   4.339130\n",
       "1728     ABY  2012-11-21  -9.000000\n",
       "30253    DRO  2012-07-06  -3.222222"
      ]
     },
     "execution_count": 19,
     "metadata": {},
     "output_type": "execute_result"
    }
   ],
   "source": [
    "test.head(5)"
   ]
  },
  {
   "cell_type": "code",
   "execution_count": 20,
   "metadata": {},
   "outputs": [
    {
     "data": {
      "text/html": [
       "<div>\n",
       "<style scoped>\n",
       "    .dataframe tbody tr th:only-of-type {\n",
       "        vertical-align: middle;\n",
       "    }\n",
       "\n",
       "    .dataframe tbody tr th {\n",
       "        vertical-align: top;\n",
       "    }\n",
       "\n",
       "    .dataframe thead th {\n",
       "        text-align: right;\n",
       "    }\n",
       "</style>\n",
       "<table border=\"1\" class=\"dataframe\">\n",
       "  <thead>\n",
       "    <tr style=\"text-align: right;\">\n",
       "      <th></th>\n",
       "      <th>FL_DATE</th>\n",
       "      <th>DEP_DELAY</th>\n",
       "    </tr>\n",
       "  </thead>\n",
       "  <tbody>\n",
       "    <tr>\n",
       "      <th>46685</th>\n",
       "      <td>2012-10-29</td>\n",
       "      <td>-7.166667</td>\n",
       "    </tr>\n",
       "  </tbody>\n",
       "</table>\n",
       "</div>"
      ],
      "text/plain": [
       "          FL_DATE  DEP_DELAY\n",
       "46685  2012-10-29  -7.166667"
      ]
     },
     "execution_count": 20,
     "metadata": {},
     "output_type": "execute_result"
    }
   ],
   "source": [
    "row = test.iloc[0:1,1:]\n",
    "row.head()"
   ]
  },
  {
   "cell_type": "code",
   "execution_count": 21,
   "metadata": {},
   "outputs": [
    {
     "name": "stdout",
     "output_type": "stream",
     "text": [
      "2012-10-29,-7.166666666666667\n",
      "\n"
     ]
    }
   ],
   "source": [
    "import io\n",
    "batch_X_csv_buffer = io.StringIO()\n",
    "row.to_csv(batch_X_csv_buffer, header=False, index=False)\n",
    "test_row = batch_X_csv_buffer.getvalue()\n",
    "print(test_row)"
   ]
  },
  {
   "cell_type": "code",
   "execution_count": null,
   "metadata": {},
   "outputs": [],
   "source": [
    "xgb_predictor.predict([test_row])"
   ]
  },
  {
   "cell_type": "markdown",
   "metadata": {},
   "source": [
    "### Verificar en la consola el endpoint ###"
   ]
  },
  {
   "cell_type": "code",
   "execution_count": null,
   "metadata": {},
   "outputs": [],
   "source": [
    "xgb_predictor.delete_endpoint(delete_endpoint_config=True)"
   ]
  },
  {
   "cell_type": "markdown",
   "metadata": {},
   "source": [
    "### Performing a batch transform ###"
   ]
  },
  {
   "cell_type": "code",
   "execution_count": null,
   "metadata": {},
   "outputs": [],
   "source": [
    "batch_X = test.iloc[:,1:];\n",
    "batch_X.head()"
   ]
  },
  {
   "cell_type": "code",
   "execution_count": null,
   "metadata": {},
   "outputs": [],
   "source": [
    "batch_X_file='batch-in.csv'\n",
    "upload_s3_csv(batch_X_file, 'batch-in', batch_X)"
   ]
  },
  {
   "cell_type": "code",
   "execution_count": null,
   "metadata": {},
   "outputs": [],
   "source": [
    "batch_output = \"s3://{}/{}/batch-out/\".format(bucket,prefix)\n",
    "batch_input = \"s3://{}/{}/batch-in/{}\".format(bucket,prefix,batch_X_file)\n",
    "\n",
    "xgb_transformer = xgb_model.transformer(instance_count=1,\n",
    "                                       instance_type='ml.m4.xlarge',\n",
    "                                       strategy='MultiRecord',\n",
    "                                       assemble_with='Line',\n",
    "                                       output_path=batch_output)\n",
    "\n",
    "xgb_transformer.transform(data=batch_input,\n",
    "                         data_type='S3Prefix',\n",
    "                         content_type='text/csv',\n",
    "                         split_type='Line')\n",
    "xgb_transformer.wait()"
   ]
  },
  {
   "cell_type": "code",
   "execution_count": null,
   "metadata": {},
   "outputs": [],
   "source": [
    "s3 = boto3.client('s3')\n",
    "obj = s3.get_object(Bucket=bucket, Key=\"{}/batch-out/{}\".format(prefix,'batch-in.csv.out'))\n",
    "target_predicted = pd.read_csv(io.BytesIO(obj['Body'].read()),',',names=['class'])\n",
    "target_predicted.head(5)"
   ]
  },
  {
   "cell_type": "code",
   "execution_count": null,
   "metadata": {},
   "outputs": [],
   "source": [
    "def binary_convert(x):\n",
    "    threshold = 0.65\n",
    "    if x > threshold:\n",
    "        return 1\n",
    "    else:\n",
    "        return 0\n",
    "\n",
    "target_predicted['binary'] = target_predicted['class'].apply(binary_convert)\n",
    "\n",
    "print(target_predicted.head(10))\n",
    "test.head(10)"
   ]
  }
 ],
 "metadata": {
  "instance_type": "ml.t3.medium",
  "kernelspec": {
   "display_name": "Python 3 (Data Science)",
   "language": "python",
   "name": "python3__SAGEMAKER_INTERNAL__arn:aws:sagemaker:us-east-1:081325390199:image/datascience-1.0"
  },
  "language_info": {
   "codemirror_mode": {
    "name": "ipython",
    "version": 3
   },
   "file_extension": ".py",
   "mimetype": "text/x-python",
   "name": "python",
   "nbconvert_exporter": "python",
   "pygments_lexer": "ipython3",
   "version": "3.7.10"
  }
 },
 "nbformat": 4,
 "nbformat_minor": 4
}
