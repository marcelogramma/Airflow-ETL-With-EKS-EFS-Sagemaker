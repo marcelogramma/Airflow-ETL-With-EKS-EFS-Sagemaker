{
 "cells": [
  {
   "cell_type": "code",
   "execution_count": null,
   "metadata": {},
   "outputs": [],
   "source": [
    "pip install awswrangler"
   ]
  },
  {
   "cell_type": "code",
   "execution_count": null,
   "metadata": {},
   "outputs": [],
   "source": [
    "pip install torch"
   ]
  },
  {
   "cell_type": "code",
   "execution_count": null,
   "metadata": {},
   "outputs": [],
   "source": [
    "pip install torchvision"
   ]
  },
  {
   "cell_type": "code",
   "execution_count": 1,
   "metadata": {},
   "outputs": [],
   "source": [
    "from __future__ import print_function\n",
    "import torch\n",
    "import torch.nn.functional as F\n",
    "import torch.nn as nn\n",
    "import torch.optim as optim\n",
    "import numpy as np\n",
    "import boto3\n",
    "import awswrangler as wr\n",
    "import pandas as pd\n",
    "import glob\n",
    "import sagemaker\n",
    "from sagemaker.image_uris import retrieve\n",
    "from time import gmtime, strftime\n",
    "from torchvision import datasets, models, transforms\n",
    "import matplotlib.pyplot as plt\n",
    "import os"
   ]
  },
  {
   "cell_type": "code",
   "execution_count": 2,
   "metadata": {},
   "outputs": [],
   "source": [
    "BUCKET_RAW = \"ml-dataset-raw-s3\"\n",
    "BUCKET_PREFIX = 'sagemaker'\n",
    "execution_role = sagemaker.get_execution_role()\n",
    "region = boto3.Session().region_name\n",
    "bucket = 'BUCKET_RAW' # <-- use your own bucket, here\n",
    "prefix = 'sagemaker/randomcutforest'\n",
    "\n",
    "BUCKET_PREFIX2009 = \"raw-out/2009.csv\"\n",
    "\n",
    "pathfull2009 = f\"s3://{BUCKET_RAW}/{BUCKET_PREFIX2009}\"\n",
    "with open(file='from_s3/2009.csv', mode='wb') as local_f:\n",
    "\n",
    "    wr.s3.download(path=pathfull2009, local_file=local_f)\n",
    "\n",
    "BUCKET_PREFIX2010 = \"raw-out/2010.csv\"\n",
    "\n",
    "pathfull2010 = f\"s3://{BUCKET_RAW}/{BUCKET_PREFIX2010}\"\n",
    "with open(file='from_s3/2010.csv', mode='wb') as local_f:\n",
    "\n",
    "    wr.s3.download(path=pathfull2010, local_file=local_f)\n",
    "\n",
    "BUCKET_PREFIX2011 = \"raw-out/2011.csv\"\n",
    "\n",
    "pathfull2011 = f\"s3://{BUCKET_RAW}/{BUCKET_PREFIX2011}\"\n",
    "with open(file='from_s3/2011.csv', mode='wb') as local_f:\n",
    "\n",
    "    wr.s3.download(path=pathfull2011, local_file=local_f)\n",
    "\n",
    "BUCKET_PREFIX2012 = \"raw-out/2012.csv\"\n",
    "\n",
    "pathfull2012 = f\"s3://{BUCKET_RAW}/{BUCKET_PREFIX2012}\"\n",
    "with open(file='from_s3/2012.csv', mode='wb') as local_f:\n",
    "\n",
    "    wr.s3.download(path=pathfull2012, local_file=local_f)\n",
    "\n",
    "BUCKET_PREFIX2013 = \"raw-out/2013.csv\"\n",
    "\n",
    "pathfull2013 = f\"s3://{BUCKET_RAW}/{BUCKET_PREFIX2013}\"\n",
    "with open(file='from_s3/2013.csv', mode='wb') as local_f:\n",
    "\n",
    "    wr.s3.download(path=pathfull2013, local_file=local_f)\n",
    "\n",
    "BUCKET_PREFIX2014 = \"raw-out/2014.csv\"\n",
    "\n",
    "pathfull2014 = f\"s3://{BUCKET_RAW}/{BUCKET_PREFIX2014}\"\n",
    "with open(file='from_s3/2014.csv', mode='wb') as local_f:\n",
    "\n",
    "    wr.s3.download(path=pathfull2014, local_file=local_f)\n",
    "\n",
    "BUCKET_PREFIX2015 = \"raw-out/2015.csv\"\n",
    "\n",
    "pathfull2015 = f\"s3://{BUCKET_RAW}/{BUCKET_PREFIX2015}\"\n",
    "with open(file='from_s3/2015.csv', mode='wb') as local_f:\n",
    "\n",
    "    wr.s3.download(path=pathfull2015, local_file=local_f)\n",
    "\n",
    "BUCKET_PREFIX2016 = \"raw-out/2016.csv\"\n",
    "\n",
    "pathfull2016 = f\"s3://{BUCKET_RAW}/{BUCKET_PREFIX2016}\"\n",
    "with open(file='from_s3/2016.csv', mode='wb') as local_f:\n",
    "\n",
    "    wr.s3.download(path=pathfull2016, local_file=local_f)\n",
    "\n",
    "BUCKET_PREFIX2017 = \"raw-out/2017.csv\"\n",
    "\n",
    "pathfull2017 = f\"s3://{BUCKET_RAW}/{BUCKET_PREFIX2017}\"\n",
    "with open(file='from_s3/2017.csv', mode='wb') as local_f:\n",
    "\n",
    "    wr.s3.download(path=pathfull2017, local_file=local_f)\n",
    "\n",
    "BUCKET_PREFIX2018 = \"raw-out/2018.csv\"\n",
    "\n",
    "pathfull2018 = f\"s3://{BUCKET_RAW}/{BUCKET_PREFIX2018}\"\n",
    "with open(file='from_s3/2018.csv', mode='wb') as local_f:\n",
    "\n",
    "    wr.s3.download(path=pathfull2018, local_file=local_f)"
   ]
  },
  {
   "cell_type": "code",
   "execution_count": 3,
   "metadata": {},
   "outputs": [
    {
     "data": {
      "text/plain": [
       "<matplotlib.axes._subplots.AxesSubplot at 0x7f0c4c151390>"
      ]
     },
     "execution_count": 3,
     "metadata": {},
     "output_type": "execute_result"
    },
    {
     "data": {
      "image/png": "[encoded data removed]",
      "text/plain": [
       "<Figure size 432x288 with 1 Axes>"
      ]
     },
     "metadata": {
      "needs_background": "light"
     },
     "output_type": "display_data"
    }
   ],
   "source": [
    "path = r'./from_s3' # use your path\n",
    "all_files = glob.glob(path + \"/*.csv\")\n",
    "\n",
    "li = []\n",
    "\n",
    "for filename in all_files:\n",
    "    df = pd.read_csv(filename, index_col=None, header=0)\n",
    "    li.append(df)\n",
    "\n",
    "airport_data = pd.concat(li, axis=0, ignore_index=True)\n",
    "\n",
    "airport_data.plot(title='Airports Departures Delay')"
   ]
  },
  {
   "cell_type": "code",
   "execution_count": null,
   "metadata": {},
   "outputs": [],
   "source": [
    "import boto3\n",
    "import botocore\n",
    "import sagemaker\n",
    "import sys\n",
    "from time import gmtime, strftime\n",
    "\n",
    "\n",
    "bucket = \"ml-dataset-raw-s3\"  # Feel free to change to another bucket you have access to\n",
    "prefix = \"sagemaker/rcf-model\"\n",
    "execution_role = sagemaker.get_execution_role()\n",
    "region = boto3.Session().region_name\n",
    "\n",
    "# S3 bucket where the original data is downloaded and stored.\n",
    "downloaded_data_bucket = f\"ml-dataset-raw-s3\"\n",
    "downloaded_data_prefix = \"sagemaker/notebook\"\n",
    "\n",
    "\n",
    "def check_bucket_permission(bucket):\n",
    "    # check if the bucket exists\n",
    "    permission = False\n",
    "    try:\n",
    "        boto3.Session().client(\"s3\").head_bucket(Bucket=bucket)\n",
    "    except botocore.exceptions.ParamValidationError as e:\n",
    "        print(\n",
    "            \"Hey! You either forgot to specify your S3 bucket\"\n",
    "            \" or you gave your bucket an invalid name!\"\n",
    "        )\n",
    "    except botocore.exceptions.ClientError as e:\n",
    "        if e.response[\"Error\"][\"Code\"] == \"403\":\n",
    "            print(f\"Hey! You don't have permission to access the bucket, {bucket}.\")\n",
    "        elif e.response[\"Error\"][\"Code\"] == \"404\":\n",
    "            print(f\"Hey! Your bucket, {bucket}, doesn't exist!\")\n",
    "        else:\n",
    "            raise\n",
    "    else:\n",
    "        permission = True\n",
    "    return permission\n",
    "\n",
    "\n",
    "if check_bucket_permission(bucket):\n",
    "    print(f\"Training input/output will be stored in: s3://{bucket}/{prefix}\")\n",
    "if check_bucket_permission(downloaded_data_bucket):\n",
    "    print(f\"Downloaded training data will be read from s3://{downloaded_data_bucket}/{downloaded_data_prefix}\")"
   ]
  },
  {
   "cell_type": "code",
   "execution_count": null,
   "metadata": {},
   "outputs": [],
   "source": [
    "%matplotlib inline\n",
    "\n",
    "import matplotlib\n",
    "import matplotlib.pyplot as plt\n",
    "\n",
    "matplotlib.rcParams[\"figure.dpi\"] = 100\n",
    "\n",
    "airport_data.plot()"
   ]
  },
  {
   "cell_type": "code",
   "execution_count": null,
   "metadata": {},
   "outputs": [],
   "source": [
    "airport_data[5500:6500].plot()"
   ]
  },
  {
   "cell_type": "code",
   "execution_count": null,
   "metadata": {},
   "outputs": [],
   "source": [
    "airport_data[5952:6000]"
   ]
  },
  {
   "cell_type": "code",
   "execution_count": null,
   "metadata": {},
   "outputs": [],
   "source": [
    "airport_data.dropna(inplace=True)"
   ]
  },
  {
   "cell_type": "code",
   "execution_count": null,
   "metadata": {},
   "outputs": [],
   "source": [
    "from sagemaker import RandomCutForest\n",
    "session = sagemaker.Session()\n",
    "\n",
    "# specify general training job information\n",
    "rcf = RandomCutForest(\n",
    "    role=execution_role,\n",
    "    instance_count=1,\n",
    "    instance_type=\"ml.c5.xlarge\",\n",
    "    data_location=f\"s3://{bucket}/{prefix}/\",\n",
    "    output_path=f\"s3://{bucket}/{prefix}/output\",\n",
    "    num_samples_per_tree=512,\n",
    "    num_trees=50,\n",
    "    base_job_name = f\"airport-data-randomforest-{strftime('%Y-%m-%d-%H-%M-%S', gmtime())}\",\n",
    "    max_payload=1\n",
    ")"
   ]
  },
  {
   "cell_type": "code",
   "execution_count": null,
   "metadata": {},
   "outputs": [],
   "source": [
    "rcf.fit(rcf.record_set(airport_data.DEP_DELAY.to_numpy().reshape(-1, 1)))"
   ]
  },
  {
   "cell_type": "code",
   "execution_count": null,
   "metadata": {},
   "outputs": [],
   "source": [
    "print(f\"Training job name: {rcf.latest_training_job.job_name}\")"
   ]
  },
  {
   "cell_type": "code",
   "execution_count": null,
   "metadata": {},
   "outputs": [],
   "source": [
    "endpoint_name = f\"airport-data-randomforest-{strftime('%Y-%m-%d-%H-%M-%S', gmtime())}\"\n",
    "\n",
    "rcf_inference = rcf.deploy(initial_instance_count=1, instance_type=\"ml.m4.xlarge\", endpoint_name = endpoint_name)"
   ]
  },
  {
   "cell_type": "code",
   "execution_count": null,
   "metadata": {},
   "outputs": [],
   "source": [
    "print(f\"Endpoint name: {rcf_inference.endpoint}\")"
   ]
  },
  {
   "cell_type": "code",
   "execution_count": null,
   "metadata": {},
   "outputs": [],
   "source": [
    "from sagemaker.serializers import CSVSerializer\n",
    "from sagemaker.deserializers import JSONDeserializer\n",
    "\n",
    "rcf_inference.serializer = CSVSerializer()\n",
    "rcf_inference.deserializer = JSONDeserializer()"
   ]
  },
  {
   "cell_type": "code",
   "execution_count": null,
   "metadata": {},
   "outputs": [],
   "source": [
    "airport_data_numpy = airport_data.DEP_DELAY.to_numpy().reshape(-1, 1)\n",
    "print(airport_data_numpy[:6])\n",
    "results = rcf_inference.predict(\n",
    "    airport_data_numpy[:6], initial_args={\"ContentType\": \"text/csv\", \"Accept\": \"application/json\"}\n",
    ")"
   ]
  },
  {
   "cell_type": "code",
   "execution_count": null,
   "metadata": {},
   "outputs": [],
   "source": [
    "results = rcf_inference.predict(airport_data_numpy)\n",
    "scores = [datum[\"score\"] for datum in results[\"scores\"]]"
   ]
  },
  {
   "cell_type": "code",
   "execution_count": null,
   "metadata": {},
   "outputs": [],
   "source": [
    "# add scores to departure data frame and print first few values\n",
    "airport_data[\"score\"] = pd.Series(scores, index=airport_data.index)\n",
    "airport_data.head()"
   ]
  },
  {
   "cell_type": "code",
   "execution_count": null,
   "metadata": {},
   "outputs": [],
   "source": [
    "# create a connection to s3\n",
    "s3 = boto3.resource('s3', \n",
    "                    aws_access_key_id=aws_access_key_id, # put you access key id here\n",
    "                    aws_secret_access_key=aws_secret_access_key) #put your access key here\n",
    "\n",
    "# you need a bucket, make one and put its name here\n",
    "bucketgraph = \"ml-modelsgraphss3\" \n",
    "\n",
    "fig, ax1 = plt.subplots()\n",
    "ax2 = ax1.twinx()\n",
    "\n",
    "#\n",
    "# *Try this out* - change `start` and `end` to zoom in on the\n",
    "# anomaly found earlier in this notebook\n",
    "#\n",
    "start, end = 0, len(airport_data)\n",
    "# start, end = 5500, 6500\n",
    "airport_data_subset = airport_data[start:end]\n",
    "\n",
    "ax1.plot(airport_data_subset[\"DEP_DELAY\"], color=\"C0\", alpha=0.8)\n",
    "ax2.plot(airport_data_subset[\"score\"], color=\"C1\")\n",
    "\n",
    "ax1.grid(which=\"major\", axis=\"both\")\n",
    "\n",
    "ax1.set_ylabel(\"Departures Delay\", color=\"C0\")\n",
    "ax2.set_ylabel(\"Anomaly Score\", color=\"C1\")\n",
    "\n",
    "ax1.tick_params(\"y\", colors=\"C0\")\n",
    "ax2.tick_params(\"y\", colors=\"C1\")\n",
    "\n",
    "ax1.set_ylim(0, 40000)\n",
    "ax2.set_ylim(min(scores), 1.4 * max(scores))\n",
    "fig.set_figwidth(10)\n",
    "\n",
    "# save the plot to a static folder\n",
    "image_name = \"airport_delay.png\"          \n",
    "plt.savefig(image_name)\n",
    "\n",
    "# upload image to aws s3\n",
    "# warning, the ACL here is set to public-read\n",
    "img_data = open(image_name, \"rb\")\n",
    "s3.Bucket(bucketgraph).put_object(Key=image_name, Body=img_data, \n",
    "                                 ContentType=\"image/png\", ACL=\"public-read\")\n",
    "\n",
    " # Generate the URL to get 'key-name' from 'bucket-name'\n",
    "url = \"http://\" + bucketgraph + \".s3.amazonaws.com/airport/\" + image_name\n",
    "print(url)"
   ]
  },
  {
   "cell_type": "code",
   "execution_count": null,
   "metadata": {},
   "outputs": [],
   "source": [
    "score_mean = airport_data[\"score\"].mean()\n",
    "score_std = airport_data[\"score\"].std()\n",
    "score_cutoff = score_mean + 3 * score_std\n",
    "\n",
    "anomalies = airport_data_subset[airport_data_subset[\"score\"] > score_cutoff]\n",
    "anomalies"
   ]
  },
  {
   "cell_type": "code",
   "execution_count": null,
   "metadata": {},
   "outputs": [],
   "source": [
    "ax2.plot(anomalies.index, anomalies.score, \"ko\")\n",
    "\n",
    "# save the plot to a static folder\n",
    "image_name = \"airport_delay_anom.png\"          \n",
    "plt.savefig(image_name)\n",
    "\n",
    "# upload image to aws s3\n",
    "# warning, the ACL here is set to public-read\n",
    "img_data = open(image_name, \"rb\")\n",
    "s3.Bucket(bucketgraph).put_object(Key=image_name, Body=img_data, \n",
    "                                 ContentType=\"image/png\", ACL=\"public-read\")\n",
    "\n",
    " # Generate the URL to get 'key-name' from 'bucket-name'\n",
    "url = \"http://\" + bucketgraph + \".s3.amazonaws.com/airport/\" + image_name\n",
    "print(url)"
   ]
  },
  {
   "cell_type": "markdown",
   "metadata": {},
   "source": [
    "### Eliminamos el endpoint al finalinaz el LAB ###"
   ]
  },
  {
   "cell_type": "code",
   "execution_count": null,
   "metadata": {},
   "outputs": [],
   "source": [
    "sagemaker.Session().delete_endpoint(rcf_inference.endpoint)"
   ]
  },
  {
   "cell_type": "code",
   "execution_count": null,
   "metadata": {},
   "outputs": [],
   "source": []
  }
 ],
 "metadata": {
  "instance_type": "ml.t3.medium",
  "kernelspec": {
   "display_name": "Python 3 (Data Science)",
   "language": "python",
   "name": "python3__SAGEMAKER_INTERNAL__arn:aws:sagemaker:us-east-1:081325390199:image/datascience-1.0"
  },
  "language_info": {
   "codemirror_mode": {
    "name": "ipython",
    "version": 3
   },
   "file_extension": ".py",
   "mimetype": "text/x-python",
   "name": "python",
   "nbconvert_exporter": "python",
   "pygments_lexer": "ipython3",
   "version": "3.7.10"
  }
 },
 "nbformat": 4,
 "nbformat_minor": 4
}
